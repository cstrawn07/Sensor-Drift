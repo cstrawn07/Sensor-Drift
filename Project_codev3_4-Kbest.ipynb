{
 "cells": [
  {
   "cell_type": "code",
   "execution_count": 1,
   "metadata": {},
   "outputs": [],
   "source": [
    "#this code looks to compare the R2 value and run time for a given K select value.\n",
    "\n",
    "from sklearn.datasets import fetch_openml\n",
    "import time\n",
    "\n",
    "import pandas as pd\n",
    "import numpy as np\n",
    "import matplotlib.pyplot as plt\n",
    "\n",
    "import sklearn.linear_model as skl_lm\n",
    "from sklearn.linear_model import LogisticRegression\n",
    "from sklearn.discriminant_analysis import LinearDiscriminantAnalysis, QuadraticDiscriminantAnalysis\n",
    "from sklearn.metrics import confusion_matrix, classification_report, precision_score, recall_score\n",
    "\n",
    "from sklearn.model_selection import train_test_split, LeaveOneOut, KFold, cross_val_score\n",
    "from sklearn.preprocessing import PolynomialFeatures\n",
    "\n",
    "from sklearn import utils\n",
    "from sklearn import preprocessing\n",
    "from sklearn import neighbors\n",
    "from pandas import read_csv\n",
    "\n",
    "from sklearn.feature_selection import SelectKBest, f_classif\n",
    "\n",
    "from sklearn import preprocessing\n",
    "\n",
    "from sklearn.feature_selection import SelectKBest\n",
    "\n",
    "import csv\n",
    "lda = LinearDiscriminantAnalysis()\n",
    "qda = QuadraticDiscriminantAnalysis()\n",
    "kfld = KFold(n_splits=3,random_state=42)"
   ]
  },
  {
   "cell_type": "code",
   "execution_count": 2,
   "metadata": {},
   "outputs": [
    {
     "name": "stdout",
     "output_type": "stream",
     "text": [
      "(4178504, 19)\n"
     ]
    }
   ],
   "source": [
    "#Reads data in from data folder.\n",
    "\n",
    "\n",
    "data = read_csv('data/ethylene_methane.txt',delim_whitespace=True)\n",
    "print(data.shape)"
   ]
  },
  {
   "cell_type": "code",
   "execution_count": 3,
   "metadata": {},
   "outputs": [],
   "source": [
    "#creates a new attribute thats the % Methane, in cases where we divide by zero\n",
    "#we recieve a NAN which is replaced by a 0\n",
    "#this code also finds all unique PPM for methane\n",
    "\n",
    "data['Methane%'] = (data['Methane(ppm)']/(data['Methane(ppm)']+data['Ethylene(ppm)']))\n",
    "data['Methane%'] = data['Methane%'].fillna(0)\n",
    "\n",
    "ppm = data['Methane(ppm)'].unique()\n",
    "sensor_name = ['sensor1', 'sensor2', 'sensor3', 'sensor4', 'sensor5', 'sensor6', 'sensor7', 'sensor8', 'sensor9', 'sensor10', 'sensor11', 'sensor12', 'sensor13', 'sensor14', 'sensor15', 'sensor16']"
   ]
  },
  {
   "cell_type": "code",
   "execution_count": 5,
   "metadata": {},
   "outputs": [
    {
     "name": "stdout",
     "output_type": "stream",
     "text": [
      "sensor1\n",
      "sensor2\n",
      "sensor3\n",
      "sensor4\n",
      "sensor5\n",
      "sensor6\n",
      "sensor7\n",
      "sensor8\n",
      "sensor9\n",
      "sensor10\n",
      "sensor11\n",
      "sensor12\n",
      "sensor13\n",
      "sensor14\n",
      "sensor15\n",
      "sensor16\n"
     ]
    }
   ],
   "source": [
    "#This block searches for Outliers for each PPM of Methane and then drops them\n",
    "#from the file.\n",
    "\n",
    "for j in sensor_name:\n",
    "    print(j)\n",
    "    for i in np.sort(ppm):    \n",
    "        data2 = data[data[\"Methane(ppm)\"] == i] #only select a specific PPM to begin trimming\n",
    "        \n",
    "        results = data2[j].quantile([0.125,0.875]) #Next lines calculate the range for non-Outliers\n",
    "        IQR_15 = 1.5*(results.loc[0.875] - results.loc[0.125])\n",
    "        fq = results.loc[0.125] - IQR_15\n",
    "        tq = results.loc[0.875] + IQR_15\n",
    "                \n",
    "        index = data2[(fq>data2[j]) | (tq<data2[j])] #Finds Outliers\n",
    "        data = data.drop(index.index) #Uses index of Outliers to drop rows from data \n",
    "        \n",
    "        \n",
    "        #print('Methane(ppm) = ',i)\n",
    "        #print('Outlier range',fq , tq)\n",
    "        #print(data.shape)\n",
    "        #print(\"\")"
   ]
  },
  {
   "cell_type": "code",
   "execution_count": 6,
   "metadata": {},
   "outputs": [],
   "source": [
    "#Defines our X and y and sets y equal to 1 if the Methane % is greater than 50%\n",
    "\n",
    "X = data.drop(columns = ['Methane(ppm)','Ethylene(ppm)','Methane%'])\n",
    "y = np.where(data['Methane%'] >= 0.5, 1, 0)"
   ]
  },
  {
   "cell_type": "code",
   "execution_count": 7,
   "metadata": {},
   "outputs": [
    {
     "name": "stdout",
     "output_type": "stream",
     "text": [
      "Starting k =  1\n",
      "R2 =  0.833929934707216\n",
      "Time (sec) =  14.08881163597107\n",
      "\n",
      "Starting k =  2\n",
      "R2 =  0.8305516861006929\n",
      "Time (sec) =  16.079622268676758\n",
      "\n",
      "Starting k =  3\n",
      "R2 =  0.9120199367486714\n",
      "Time (sec) =  21.32739496231079\n",
      "\n",
      "Starting k =  4\n",
      "R2 =  0.9122437569974732\n",
      "Time (sec) =  26.460062265396118\n",
      "\n",
      "Starting k =  5\n",
      "R2 =  0.906959956616422\n",
      "Time (sec) =  25.369069576263428\n",
      "\n",
      "Starting k =  6\n",
      "R2 =  0.9113640855315851\n",
      "Time (sec) =  38.84532427787781\n",
      "\n",
      "Starting k =  7\n",
      "R2 =  0.9115462425933799\n",
      "Time (sec) =  70.10526204109192\n",
      "\n",
      "Starting k =  8\n",
      "R2 =  0.910739993586219\n",
      "Time (sec) =  123.9462149143219\n",
      "\n",
      "Starting k =  9\n",
      "R2 =  0.9136231386019089\n",
      "Time (sec) =  271.96247029304504\n",
      "\n",
      "Starting k =  10\n",
      "R2 =  0.9073192074693134\n",
      "Time (sec) =  231.2548062801361\n",
      "\n",
      "Starting k =  11\n",
      "R2 =  0.9179020249710969\n",
      "Time (sec) =  336.626424074173\n",
      "\n",
      "Starting k =  12\n",
      "R2 =  0.9176312373604478\n",
      "Time (sec) =  95.55302834510803\n",
      "\n",
      "Starting k =  13\n",
      "R2 =  0.9180476362857067\n",
      "Time (sec) =  214.28886318206787\n",
      "\n",
      "Starting k =  14\n",
      "R2 =  0.9193906257440815\n",
      "Time (sec) =  312.16552805900574\n",
      "\n",
      "Starting k =  15\n",
      "R2 =  0.9193593701809268\n",
      "Time (sec) =  473.15007400512695\n",
      "\n",
      "Starting k =  16\n",
      "R2 =  0.9193073256360588\n",
      "Time (sec) =  449.85103964805603\n",
      "\n",
      "Starting k =  17\n",
      "R2 =  0.91982780719513\n",
      "Time (sec) =  584.6185069084167\n",
      "\n"
     ]
    }
   ],
   "source": [
    "#This portion of code loops the SelectKbest function and test K values\n",
    "#ranging from 1 to 17 and then calculates the logistic fit R2 value.\n",
    "#We also record the run time for each fit to measure the increase in run time \n",
    "#to justify if a specific R2 is worth the time it takes to calculate\n",
    "\n",
    "k_val = [1,2,3,4,5,6,7,8,9,10,11,12,13,14,15,16,17]\n",
    "scores = list()\n",
    "times = list()\n",
    "for i in k_val:\n",
    "    print('Starting k = ',i)\n",
    "    X_best= SelectKBest(f_classif, k=i).fit_transform(X, y)\n",
    "\n",
    "    X_train2, X_test2, y_train2, y_test2 = train_test_split(X_best, y, test_size=0.40, random_state=42)\n",
    "    X_train2 = 0\n",
    "    y_train2 = 0\n",
    "    X_train, X_test, y_train, y_test = train_test_split(X_test2, y_test2, test_size=0.50, random_state=42)  \n",
    "    \n",
    "    start = time.time()\n",
    "    clf = LogisticRegression(random_state=42, solver='lbfgs',max_iter=10000,n_jobs = -1).fit(X_train, y_train)\n",
    "    score = cross_val_score(clf, X_test, y_test, cv=kfld, scoring='r2').mean()\n",
    "    end = time.time()\n",
    "    \n",
    "    print('R2 = ',score)\n",
    "    print('Time (sec) = ',(end-start))\n",
    "    print('')\n",
    "    scores.append(score)\n",
    "    times.append((end-start))\n"
   ]
  },
  {
   "cell_type": "code",
   "execution_count": 8,
   "metadata": {},
   "outputs": [
    {
     "data": {
      "text/plain": [
       "Text(0, 0.5, 'R2')"
      ]
     },
     "execution_count": 8,
     "metadata": {},
     "output_type": "execute_result"
    },
    {
     "data": {
      "image/png": "[encoded data removed]",
      "text/plain": [
       "<Figure size 432x288 with 1 Axes>"
      ]
     },
     "metadata": {
      "needs_background": "light"
     },
     "output_type": "display_data"
    }
   ],
   "source": [
    "#Plots the R2 vs the K value calculated in the previou block\n",
    "\n",
    "plt.ylim(0.82, 0.93) \n",
    "plt.scatter(k_val,scores)\n",
    "plt.title(\"R2 vs K\")\n",
    "plt.xlabel(\"# of Attributes\")\n",
    "plt.ylabel(\"R2\")"
   ]
  },
  {
   "cell_type": "code",
   "execution_count": 9,
   "metadata": {},
   "outputs": [
    {
     "data": {
      "text/plain": [
       "Text(0, 0.5, 'Time (sec)')"
      ]
     },
     "execution_count": 9,
     "metadata": {},
     "output_type": "execute_result"
    },
    {
     "data": {
      "image/png": "[encoded data removed]",
      "text/plain": [
       "<Figure size 432x288 with 1 Axes>"
      ]
     },
     "metadata": {
      "needs_background": "light"
     },
     "output_type": "display_data"
    }
   ],
   "source": [
    "#Plots the Time vs the K value calculated in the previou block\n",
    "\n",
    "plt.scatter(k_val,times)\n",
    "plt.title(\"Time vs K\")\n",
    "plt.xlabel(\"# of Attributes\")\n",
    "plt.ylabel(\"Time (sec)\")"
   ]
  },
  {
   "cell_type": "code",
   "execution_count": 16,
   "metadata": {},
   "outputs": [
    {
     "name": "stdout",
     "output_type": "stream",
     "text": [
      "[False False False  True  True  True  True  True  True False False  True\n",
      "  True  True  True  True  True]\n"
     ]
    }
   ],
   "source": [
    "#Returns which attributes to drop after running selectKbest.\n",
    "\n",
    "k_best = SelectKBest(score_func=f_classif, k=12).fit(X, y)\n",
    "print(k_best.get_support())"
   ]
  },
  {
   "cell_type": "code",
   "execution_count": 17,
   "metadata": {},
   "outputs": [
    {
     "name": "stdout",
     "output_type": "stream",
     "text": [
      "Index(['Time(sec)', 'sensor1', 'sensor2', 'sensor3', 'sensor4', 'sensor5',\n",
      "       'sensor6', 'sensor7', 'sensor8', 'sensor9', 'sensor10', 'sensor11',\n",
      "       'sensor12', 'sensor13', 'sensor14', 'sensor15', 'sensor16'],\n",
      "      dtype='object')\n"
     ]
    }
   ],
   "source": [
    "#We printed out the attribute names so we could match them up to the previous \n",
    "#lines results.\n",
    "print(X.columns)"
   ]
  },
  {
   "cell_type": "code",
   "execution_count": null,
   "metadata": {},
   "outputs": [],
   "source": []
  }
 ],
 "metadata": {
  "kernelspec": {
   "display_name": "Python 3",
   "language": "python",
   "name": "python3"
  },
  "language_info": {
   "codemirror_mode": {
    "name": "ipython",
    "version": 3
   },
   "file_extension": ".py",
   "mimetype": "text/x-python",
   "name": "python",
   "nbconvert_exporter": "python",
   "pygments_lexer": "ipython3",
   "version": "3.7.3"
  }
 },
 "nbformat": 4,
 "nbformat_minor": 2
}
