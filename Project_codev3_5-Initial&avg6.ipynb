{
 "cells": [
  {
   "cell_type": "code",
   "execution_count": 1,
   "metadata": {},
   "outputs": [],
   "source": [
    "#This code uses a best feature select of 12 and calculates the results for using\n",
    "#a moving average plus the original data in the feature set\n",
    "\n",
    "from sklearn.datasets import fetch_openml\n",
    "import time\n",
    "\n",
    "import pandas as pd\n",
    "import numpy as np\n",
    "import matplotlib.pyplot as plt\n",
    "\n",
    "import sklearn.linear_model as skl_lm\n",
    "from sklearn.linear_model import LogisticRegression\n",
    "from sklearn.discriminant_analysis import LinearDiscriminantAnalysis, QuadraticDiscriminantAnalysis\n",
    "from sklearn.metrics import confusion_matrix, classification_report, precision_score, recall_score\n",
    "\n",
    "from sklearn.model_selection import train_test_split, LeaveOneOut, KFold, cross_val_score\n",
    "from sklearn.preprocessing import PolynomialFeatures\n",
    "\n",
    "from sklearn import utils\n",
    "from sklearn import preprocessing\n",
    "from sklearn import neighbors\n",
    "from pandas import read_csv\n",
    "\n",
    "from sklearn.feature_selection import SelectKBest, f_classif\n",
    "\n",
    "from sklearn import preprocessing\n",
    "\n",
    "from copy import deepcopy\n",
    "\n",
    "import csv\n",
    "\n",
    "#This part of the code defines the fit models  \n",
    "\n",
    "lda = LinearDiscriminantAnalysis()\n",
    "qda = QuadraticDiscriminantAnalysis()\n",
    "kfld = KFold(n_splits=3,random_state=42)"
   ]
  },
  {
   "cell_type": "code",
   "execution_count": 2,
   "metadata": {},
   "outputs": [
    {
     "data": {
      "text/html": [
       "<div>\n",
       "<style scoped>\n",
       "    .dataframe tbody tr th:only-of-type {\n",
       "        vertical-align: middle;\n",
       "    }\n",
       "\n",
       "    .dataframe tbody tr th {\n",
       "        vertical-align: top;\n",
       "    }\n",
       "\n",
       "    .dataframe thead th {\n",
       "        text-align: right;\n",
       "    }\n",
       "</style>\n",
       "<table border=\"1\" class=\"dataframe\">\n",
       "  <thead>\n",
       "    <tr style=\"text-align: right;\">\n",
       "      <th></th>\n",
       "      <th>Time(sec)</th>\n",
       "      <th>Methane(ppm)</th>\n",
       "      <th>Ethylene(ppm)</th>\n",
       "      <th>sensor1</th>\n",
       "      <th>sensor2</th>\n",
       "      <th>sensor3</th>\n",
       "      <th>sensor4</th>\n",
       "      <th>sensor5</th>\n",
       "      <th>sensor6</th>\n",
       "      <th>sensor7</th>\n",
       "      <th>sensor8</th>\n",
       "      <th>sensor9</th>\n",
       "      <th>sensor10</th>\n",
       "      <th>sensor11</th>\n",
       "      <th>sensor12</th>\n",
       "      <th>sensor13</th>\n",
       "      <th>sensor14</th>\n",
       "      <th>sensor15</th>\n",
       "      <th>sensor16</th>\n",
       "    </tr>\n",
       "  </thead>\n",
       "  <tbody>\n",
       "    <tr>\n",
       "      <th>0</th>\n",
       "      <td>0.00</td>\n",
       "      <td>0.0</td>\n",
       "      <td>0.0</td>\n",
       "      <td>-41.98</td>\n",
       "      <td>2067.64</td>\n",
       "      <td>-37.13</td>\n",
       "      <td>2.28</td>\n",
       "      <td>8.63</td>\n",
       "      <td>-26.62</td>\n",
       "      <td>-8.46</td>\n",
       "      <td>-0.33</td>\n",
       "      <td>3437.73</td>\n",
       "      <td>2728.14</td>\n",
       "      <td>4054.03</td>\n",
       "      <td>4007.89</td>\n",
       "      <td>4478.27</td>\n",
       "      <td>5056.98</td>\n",
       "      <td>3639.09</td>\n",
       "      <td>3128.49</td>\n",
       "    </tr>\n",
       "    <tr>\n",
       "      <th>1</th>\n",
       "      <td>0.01</td>\n",
       "      <td>0.0</td>\n",
       "      <td>0.0</td>\n",
       "      <td>-46.50</td>\n",
       "      <td>2067.88</td>\n",
       "      <td>-28.56</td>\n",
       "      <td>13.69</td>\n",
       "      <td>-12.35</td>\n",
       "      <td>-25.81</td>\n",
       "      <td>-5.04</td>\n",
       "      <td>-5.04</td>\n",
       "      <td>3432.44</td>\n",
       "      <td>2734.47</td>\n",
       "      <td>4038.62</td>\n",
       "      <td>4019.40</td>\n",
       "      <td>4496.72</td>\n",
       "      <td>5051.81</td>\n",
       "      <td>3636.97</td>\n",
       "      <td>3115.03</td>\n",
       "    </tr>\n",
       "    <tr>\n",
       "      <th>2</th>\n",
       "      <td>0.02</td>\n",
       "      <td>0.0</td>\n",
       "      <td>0.0</td>\n",
       "      <td>-36.16</td>\n",
       "      <td>2055.81</td>\n",
       "      <td>-10.89</td>\n",
       "      <td>8.63</td>\n",
       "      <td>-2.93</td>\n",
       "      <td>-30.34</td>\n",
       "      <td>-9.27</td>\n",
       "      <td>-2.12</td>\n",
       "      <td>3438.61</td>\n",
       "      <td>2719.97</td>\n",
       "      <td>4030.92</td>\n",
       "      <td>4025.48</td>\n",
       "      <td>4489.54</td>\n",
       "      <td>5057.35</td>\n",
       "      <td>3641.81</td>\n",
       "      <td>3105.24</td>\n",
       "    </tr>\n",
       "    <tr>\n",
       "      <th>3</th>\n",
       "      <td>0.03</td>\n",
       "      <td>0.0</td>\n",
       "      <td>0.0</td>\n",
       "      <td>-50.36</td>\n",
       "      <td>2053.68</td>\n",
       "      <td>-31.96</td>\n",
       "      <td>-0.65</td>\n",
       "      <td>-8.29</td>\n",
       "      <td>-21.60</td>\n",
       "      <td>7.98</td>\n",
       "      <td>2.28</td>\n",
       "      <td>3429.51</td>\n",
       "      <td>2720.50</td>\n",
       "      <td>4040.22</td>\n",
       "      <td>4000.87</td>\n",
       "      <td>4485.44</td>\n",
       "      <td>5049.60</td>\n",
       "      <td>3642.72</td>\n",
       "      <td>3124.84</td>\n",
       "    </tr>\n",
       "    <tr>\n",
       "      <th>4</th>\n",
       "      <td>0.04</td>\n",
       "      <td>0.0</td>\n",
       "      <td>0.0</td>\n",
       "      <td>-37.30</td>\n",
       "      <td>2081.17</td>\n",
       "      <td>-36.16</td>\n",
       "      <td>3.26</td>\n",
       "      <td>5.05</td>\n",
       "      <td>-26.14</td>\n",
       "      <td>-7.48</td>\n",
       "      <td>-0.65</td>\n",
       "      <td>3436.85</td>\n",
       "      <td>2719.71</td>\n",
       "      <td>4029.64</td>\n",
       "      <td>4007.25</td>\n",
       "      <td>4499.12</td>\n",
       "      <td>5057.35</td>\n",
       "      <td>3674.30</td>\n",
       "      <td>3147.59</td>\n",
       "    </tr>\n",
       "    <tr>\n",
       "      <th>5</th>\n",
       "      <td>0.05</td>\n",
       "      <td>0.0</td>\n",
       "      <td>0.0</td>\n",
       "      <td>-48.43</td>\n",
       "      <td>2058.64</td>\n",
       "      <td>-32.61</td>\n",
       "      <td>18.59</td>\n",
       "      <td>9.61</td>\n",
       "      <td>-28.89</td>\n",
       "      <td>-12.19</td>\n",
       "      <td>0.65</td>\n",
       "      <td>3463.35</td>\n",
       "      <td>2748.74</td>\n",
       "      <td>4037.97</td>\n",
       "      <td>4023.88</td>\n",
       "      <td>4486.47</td>\n",
       "      <td>5058.09</td>\n",
       "      <td>3650.60</td>\n",
       "      <td>3111.96</td>\n",
       "    </tr>\n",
       "    <tr>\n",
       "      <th>6</th>\n",
       "      <td>0.06</td>\n",
       "      <td>0.0</td>\n",
       "      <td>0.0</td>\n",
       "      <td>-46.17</td>\n",
       "      <td>2065.99</td>\n",
       "      <td>-33.74</td>\n",
       "      <td>7.82</td>\n",
       "      <td>-2.12</td>\n",
       "      <td>-38.10</td>\n",
       "      <td>10.59</td>\n",
       "      <td>2.93</td>\n",
       "      <td>3426.87</td>\n",
       "      <td>2731.83</td>\n",
       "      <td>4027.72</td>\n",
       "      <td>3996.72</td>\n",
       "      <td>4507.33</td>\n",
       "      <td>5056.61</td>\n",
       "      <td>3644.54</td>\n",
       "      <td>3122.32</td>\n",
       "    </tr>\n",
       "  </tbody>\n",
       "</table>\n",
       "</div>"
      ],
      "text/plain": [
       "   Time(sec)  Methane(ppm)  Ethylene(ppm)  sensor1  sensor2  sensor3  sensor4  \\\n",
       "0       0.00           0.0            0.0   -41.98  2067.64   -37.13     2.28   \n",
       "1       0.01           0.0            0.0   -46.50  2067.88   -28.56    13.69   \n",
       "2       0.02           0.0            0.0   -36.16  2055.81   -10.89     8.63   \n",
       "3       0.03           0.0            0.0   -50.36  2053.68   -31.96    -0.65   \n",
       "4       0.04           0.0            0.0   -37.30  2081.17   -36.16     3.26   \n",
       "5       0.05           0.0            0.0   -48.43  2058.64   -32.61    18.59   \n",
       "6       0.06           0.0            0.0   -46.17  2065.99   -33.74     7.82   \n",
       "\n",
       "   sensor5  sensor6  sensor7  sensor8  sensor9  sensor10  sensor11  sensor12  \\\n",
       "0     8.63   -26.62    -8.46    -0.33  3437.73   2728.14   4054.03   4007.89   \n",
       "1   -12.35   -25.81    -5.04    -5.04  3432.44   2734.47   4038.62   4019.40   \n",
       "2    -2.93   -30.34    -9.27    -2.12  3438.61   2719.97   4030.92   4025.48   \n",
       "3    -8.29   -21.60     7.98     2.28  3429.51   2720.50   4040.22   4000.87   \n",
       "4     5.05   -26.14    -7.48    -0.65  3436.85   2719.71   4029.64   4007.25   \n",
       "5     9.61   -28.89   -12.19     0.65  3463.35   2748.74   4037.97   4023.88   \n",
       "6    -2.12   -38.10    10.59     2.93  3426.87   2731.83   4027.72   3996.72   \n",
       "\n",
       "   sensor13  sensor14  sensor15  sensor16  \n",
       "0   4478.27   5056.98   3639.09   3128.49  \n",
       "1   4496.72   5051.81   3636.97   3115.03  \n",
       "2   4489.54   5057.35   3641.81   3105.24  \n",
       "3   4485.44   5049.60   3642.72   3124.84  \n",
       "4   4499.12   5057.35   3674.30   3147.59  \n",
       "5   4486.47   5058.09   3650.60   3111.96  \n",
       "6   4507.33   5056.61   3644.54   3122.32  "
      ]
     },
     "execution_count": 2,
     "metadata": {},
     "output_type": "execute_result"
    }
   ],
   "source": [
    "#Reads data in from data folder.\n",
    "\n",
    "data = read_csv('data/ethylene_methane.txt',delim_whitespace=True)\n",
    "data.head(7)"
   ]
  },
  {
   "cell_type": "code",
   "execution_count": 3,
   "metadata": {},
   "outputs": [],
   "source": [
    "#creates a new attribute thats the % Methane, in cases where we divide by zero\n",
    "#we recieve a NAN which is replaced by a 0\n",
    "#the 4th line drops that attributes that we defined to be unnecasry from our K\n",
    "#best select we ran in a previous part of our code\n",
    "#this code also finds all unique PPM for methane\n",
    "\n",
    "data['Methane%'] = (data['Methane(ppm)']/(data['Methane(ppm)']+data['Ethylene(ppm)']))\n",
    "data['Methane%'] = data['Methane%'].fillna(0)\n",
    "\n",
    "ppm = data['Methane(ppm)'].unique()\n",
    "\n",
    "data = data.drop(columns = ['Time(sec)', 'sensor1', 'sensor2','sensor9','sensor10'])\n",
    "\n",
    "sensor_name = ['sensor3', 'sensor4', 'sensor5','sensor6', 'sensor7', 'sensor8', 'sensor11','sensor12', 'sensor13', 'sensor14', 'sensor15', 'sensor16']\n"
   ]
  },
  {
   "cell_type": "code",
   "execution_count": 4,
   "metadata": {},
   "outputs": [
    {
     "name": "stdout",
     "output_type": "stream",
     "text": [
      "sensor3\n",
      "sensor4\n",
      "sensor5\n",
      "sensor6\n",
      "sensor7\n",
      "sensor8\n",
      "sensor11\n",
      "sensor12\n",
      "sensor13\n",
      "sensor14\n",
      "sensor15\n",
      "sensor16\n"
     ]
    }
   ],
   "source": [
    "#This block searches for Outliers for each PPM of Methane and then drops them\n",
    "#from the file.\n",
    "\n",
    "\n",
    "for j in sensor_name:\n",
    "    print(j)\n",
    "    for i in np.sort(ppm):    \n",
    "        data2 = data[data[\"Methane(ppm)\"] == i] #only select a specific PPM to begin trimming\n",
    "        \n",
    "        results = data2[j].quantile([0.125,0.875]) #Next lines calculate the range for non-Outliers\n",
    "        IQR_15 = 1.5*(results.loc[0.875] - results.loc[0.125])\n",
    "        fq = results.loc[0.125] - IQR_15\n",
    "        tq = results.loc[0.875] + IQR_15\n",
    "                \n",
    "        index = data2[(fq>data2[j]) | (tq<data2[j])] #Finds Outliers\n",
    "        data = data.drop(index.index) #Uses index of Outliers to drop rows from data \n",
    "        "
   ]
  },
  {
   "cell_type": "code",
   "execution_count": 5,
   "metadata": {},
   "outputs": [],
   "source": [
    "#This takes each remaining sensor and computes a moving average of 6\n",
    "#and drops any NAN values that get created\n",
    "\n",
    "df = deepcopy(data)\n",
    "\n",
    "for k in sensor_name:\n",
    "    data[k+'_avg6'] = df[k].rolling(window=6).mean()\n",
    "data = data.dropna()"
   ]
  },
  {
   "cell_type": "code",
   "execution_count": 6,
   "metadata": {},
   "outputs": [
    {
     "name": "stdout",
     "output_type": "stream",
     "text": [
      "Time (sec) =  1.325202226638794\n"
     ]
    }
   ],
   "source": [
    "#Defines our X and y and sets y equal to 1 if the Methane % is greater than 50%\n",
    "\n",
    "\n",
    "X_best = data.drop(columns = ['Methane(ppm)','Ethylene(ppm)','Methane%'])\n",
    "y = np.where(data['Methane%'] >= 0.5, 1, 0)\n",
    "\n",
    "start =time.time()\n",
    "X_train, X_test, y_train, y_test = train_test_split(X_best, y, test_size=0.50, random_state=42) \n",
    "end = time.time()\n",
    "print('Time (sec) = ',(end-start))"
   ]
  },
  {
   "cell_type": "code",
   "execution_count": 7,
   "metadata": {},
   "outputs": [
    {
     "name": "stdout",
     "output_type": "stream",
     "text": [
      "0.9201802111880616\n",
      "Time (sec) =  825.3219792842865\n"
     ]
    }
   ],
   "source": [
    "#these next blocks of code are the model fitting, each block attempts to fit \n",
    "#one model and records the start time starting at the fitting and ends after \n",
    "#finishing the CV\n",
    "#The score and time printed once the code finishes\n",
    "\n",
    "\n",
    "start =time.time()\n",
    "clf = LogisticRegression(random_state=42, solver='lbfgs',max_iter=10000,n_jobs = -1).fit(X_train, y_train)\n",
    "score = cross_val_score(clf, X_test, y_test, cv=kfld, scoring='r2').mean()\n",
    "end = time.time()\n",
    "print(score)\n",
    "print('Time (sec) = ',(end-start))"
   ]
  },
  {
   "cell_type": "code",
   "execution_count": 8,
   "metadata": {},
   "outputs": [
    {
     "name": "stdout",
     "output_type": "stream",
     "text": [
      "0.9075915697271077\n",
      "Time (sec) =  20.45657515525818\n"
     ]
    }
   ],
   "source": [
    "start =time.time()\n",
    "lda.fit(X_train, y_train)\n",
    "score = cross_val_score(lda, X_test, y_test, cv=kfld, scoring='r2').mean()\n",
    "end = time.time()\n",
    "print(score)\n",
    "print('Time (sec) = ',(end-start))"
   ]
  },
  {
   "cell_type": "code",
   "execution_count": 9,
   "metadata": {},
   "outputs": [
    {
     "name": "stdout",
     "output_type": "stream",
     "text": [
      "0.8723988987696352\n",
      "Time (sec) =  8.765960693359375\n"
     ]
    }
   ],
   "source": [
    "start =time.time()\n",
    "qda.fit(X_train, y_train)\n",
    "score = cross_val_score(qda, X_test, y_test, cv=kfld, scoring='r2').mean()\n",
    "end = time.time()\n",
    "print(score)\n",
    "print('Time (sec) = ',(end-start))"
   ]
  },
  {
   "cell_type": "code",
   "execution_count": 10,
   "metadata": {},
   "outputs": [
    {
     "name": "stdout",
     "output_type": "stream",
     "text": [
      "0.9844602861559967\n",
      "Time (sec) =  441.485399723053\n"
     ]
    }
   ],
   "source": [
    "start =time.time()\n",
    "knn = neighbors.KNeighborsClassifier(n_neighbors=3).fit(X_train, y_train)\n",
    "score = cross_val_score(knn, X_test, y_test, cv=kfld, scoring='r2').mean()\n",
    "end = time.time()\n",
    "print(score)\n",
    "print('Time (sec) = ',(end-start))"
   ]
  },
  {
   "cell_type": "code",
   "execution_count": 11,
   "metadata": {},
   "outputs": [
    {
     "name": "stdout",
     "output_type": "stream",
     "text": [
      "0.9573546580544733\n",
      "0.9991935032073128\n"
     ]
    }
   ],
   "source": [
    "#these next lines take the previously fitted models and computes\n",
    "#recall and precision\n",
    "\n",
    "clf_y = clf.predict(X_test)\n",
    "print(recall_score(y_test, clf_y))\n",
    "print(precision_score(y_test, clf_y))"
   ]
  },
  {
   "cell_type": "code",
   "execution_count": 12,
   "metadata": {},
   "outputs": [
    {
     "name": "stdout",
     "output_type": "stream",
     "text": [
      "0.9529799739666039\n",
      "0.996566583832773\n"
     ]
    }
   ],
   "source": [
    "lda_y = lda.predict(X_test)\n",
    "print(recall_score(y_test, lda_y))\n",
    "print(precision_score(y_test, lda_y))"
   ]
  },
  {
   "cell_type": "code",
   "execution_count": 13,
   "metadata": {},
   "outputs": [
    {
     "name": "stdout",
     "output_type": "stream",
     "text": [
      "0.9580580517894605\n",
      "0.9724639013653973\n"
     ]
    }
   ],
   "source": [
    "qda_y = qda.predict(X_test)\n",
    "print(recall_score(y_test, qda_y))\n",
    "print(precision_score(y_test, qda_y))"
   ]
  },
  {
   "cell_type": "code",
   "execution_count": 14,
   "metadata": {},
   "outputs": [
    {
     "name": "stdout",
     "output_type": "stream",
     "text": [
      "0.995178006700692\n",
      "0.9968333835526367\n"
     ]
    }
   ],
   "source": [
    "knn_y = knn.predict(X_test)\n",
    "print(recall_score(y_test, knn_y))\n",
    "print(precision_score(y_test, knn_y))"
   ]
  },
  {
   "cell_type": "code",
   "execution_count": null,
   "metadata": {},
   "outputs": [],
   "source": []
  }
 ],
 "metadata": {
  "kernelspec": {
   "display_name": "Python 3",
   "language": "python",
   "name": "python3"
  },
  "language_info": {
   "codemirror_mode": {
    "name": "ipython",
    "version": 3
   },
   "file_extension": ".py",
   "mimetype": "text/x-python",
   "name": "python",
   "nbconvert_exporter": "python",
   "pygments_lexer": "ipython3",
   "version": "3.7.2"
  }
 },
 "nbformat": 4,
 "nbformat_minor": 2
}
