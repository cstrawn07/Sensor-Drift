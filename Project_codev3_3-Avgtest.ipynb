{
 "cells": [
  {
   "cell_type": "code",
   "execution_count": 1,
   "metadata": {},
   "outputs": [],
   "source": [
    "#This code compares different R2 and run time results for different \n",
    "#moving average window widths\n",
    "\n",
    "from sklearn.datasets import fetch_openml\n",
    "import time\n",
    "\n",
    "import pandas as pd\n",
    "import numpy as np\n",
    "import matplotlib.pyplot as plt\n",
    "\n",
    "import sklearn.linear_model as skl_lm\n",
    "from sklearn.linear_model import LogisticRegression\n",
    "from sklearn.discriminant_analysis import LinearDiscriminantAnalysis, QuadraticDiscriminantAnalysis\n",
    "from sklearn.metrics import confusion_matrix, classification_report, precision_score, recall_score\n",
    "\n",
    "from sklearn.model_selection import train_test_split, LeaveOneOut, KFold, cross_val_score\n",
    "from sklearn.preprocessing import PolynomialFeatures\n",
    "\n",
    "from sklearn import utils\n",
    "from sklearn import preprocessing\n",
    "from sklearn import neighbors\n",
    "from pandas import read_csv\n",
    "\n",
    "from sklearn.feature_selection import SelectKBest, f_classif\n",
    "\n",
    "from sklearn import preprocessing\n",
    "\n",
    "from sklearn.feature_selection import SelectKBest\n",
    "\n",
    "from copy import deepcopy\n",
    "\n",
    "import csv\n",
    "lda = LinearDiscriminantAnalysis()\n",
    "qda = QuadraticDiscriminantAnalysis()\n",
    "kfld = KFold(n_splits=3,random_state=42)"
   ]
  },
  {
   "cell_type": "code",
   "execution_count": 2,
   "metadata": {},
   "outputs": [
    {
     "name": "stdout",
     "output_type": "stream",
     "text": [
      "(4178504, 19)\n"
     ]
    }
   ],
   "source": [
    "#Reads data in from data folder.\n",
    "\n",
    "data = read_csv('data/ethylene_methane.txt',delim_whitespace=True)\n",
    "print(data.shape)"
   ]
  },
  {
   "cell_type": "code",
   "execution_count": 3,
   "metadata": {},
   "outputs": [],
   "source": [
    "#creates a new attribute thats the % Methane, in cases where we divide by zero\n",
    "#we recieve a NAN which is replaced by a 0\n",
    "#the 4th line drops that attributes that we defined to be unnecasry from our K\n",
    "#best select we ran in a previous part of our code\n",
    "#this code also finds all unique PPM for methane\n",
    "\n",
    "data['Methane%'] = (data['Methane(ppm)']/(data['Methane(ppm)']+data['Ethylene(ppm)']))\n",
    "data['Methane%'] = data['Methane%'].fillna(0)\n",
    "\n",
    "ppm = data['Methane(ppm)'].unique()\n",
    "\n",
    "data = data.drop(columns = ['Time(sec)', 'sensor1', 'sensor2','sensor9','sensor10'])\n",
    "\n",
    "sensor_name = ['sensor3', 'sensor4', 'sensor5','sensor6', 'sensor7', 'sensor8', 'sensor11','sensor12', 'sensor13', 'sensor14', 'sensor15', 'sensor16']\n"
   ]
  },
  {
   "cell_type": "code",
   "execution_count": 4,
   "metadata": {},
   "outputs": [
    {
     "name": "stdout",
     "output_type": "stream",
     "text": [
      "sensor3\n",
      "sensor4\n",
      "sensor5\n",
      "sensor6\n",
      "sensor7\n",
      "sensor8\n",
      "sensor11\n",
      "sensor12\n",
      "sensor13\n",
      "sensor14\n",
      "sensor15\n",
      "sensor16\n"
     ]
    }
   ],
   "source": [
    "#This block searches for Outliers for each PPM of Methane and then drops them\n",
    "#from the file.\n",
    "\n",
    "for j in sensor_name:\n",
    "    print(j)\n",
    "    for i in np.sort(ppm):    \n",
    "        data2 = data[data[\"Methane(ppm)\"] == i] #only select a specific PPM to begin trimming\n",
    "        \n",
    "        results = data2[j].quantile([0.125,0.875]) #Next lines calculate the range for non-Outliers\n",
    "        IQR_15 = 1.5*(results.loc[0.875] - results.loc[0.125])\n",
    "        fq = results.loc[0.125] - IQR_15\n",
    "        tq = results.loc[0.875] + IQR_15\n",
    "                \n",
    "        index = data2[(fq>data2[j]) | (tq<data2[j])] #Finds Outliers\n",
    "        data = data.drop(index.index) #Uses index of Outliers to drop rows from data \n",
    "      "
   ]
  },
  {
   "cell_type": "code",
   "execution_count": 11,
   "metadata": {},
   "outputs": [
    {
     "data": {
      "text/html": [
       "<div>\n",
       "<style scoped>\n",
       "    .dataframe tbody tr th:only-of-type {\n",
       "        vertical-align: middle;\n",
       "    }\n",
       "\n",
       "    .dataframe tbody tr th {\n",
       "        vertical-align: top;\n",
       "    }\n",
       "\n",
       "    .dataframe thead th {\n",
       "        text-align: right;\n",
       "    }\n",
       "</style>\n",
       "<table border=\"1\" class=\"dataframe\">\n",
       "  <thead>\n",
       "    <tr style=\"text-align: right;\">\n",
       "      <th></th>\n",
       "      <th>Methane(ppm)</th>\n",
       "      <th>Ethylene(ppm)</th>\n",
       "      <th>sensor3</th>\n",
       "      <th>sensor4</th>\n",
       "      <th>sensor5</th>\n",
       "      <th>sensor6</th>\n",
       "      <th>sensor7</th>\n",
       "      <th>sensor8</th>\n",
       "      <th>sensor11</th>\n",
       "      <th>sensor12</th>\n",
       "      <th>sensor13</th>\n",
       "      <th>sensor14</th>\n",
       "      <th>sensor15</th>\n",
       "      <th>sensor16</th>\n",
       "      <th>Methane%</th>\n",
       "    </tr>\n",
       "  </thead>\n",
       "  <tbody>\n",
       "    <tr>\n",
       "      <th>3579</th>\n",
       "      <td>0.0</td>\n",
       "      <td>0.0</td>\n",
       "      <td>3407.506286</td>\n",
       "      <td>3754.603143</td>\n",
       "      <td>2150.950000</td>\n",
       "      <td>2707.213905</td>\n",
       "      <td>2697.069238</td>\n",
       "      <td>2915.878571</td>\n",
       "      <td>2665.986286</td>\n",
       "      <td>2516.178286</td>\n",
       "      <td>2019.833524</td>\n",
       "      <td>2267.264190</td>\n",
       "      <td>2242.542000</td>\n",
       "      <td>1880.299333</td>\n",
       "      <td>0.0</td>\n",
       "    </tr>\n",
       "    <tr>\n",
       "      <th>3580</th>\n",
       "      <td>0.0</td>\n",
       "      <td>0.0</td>\n",
       "      <td>3405.911333</td>\n",
       "      <td>3753.634286</td>\n",
       "      <td>2150.210381</td>\n",
       "      <td>2705.921143</td>\n",
       "      <td>2696.559714</td>\n",
       "      <td>2915.123810</td>\n",
       "      <td>2665.456000</td>\n",
       "      <td>2515.648286</td>\n",
       "      <td>2019.300190</td>\n",
       "      <td>2266.893619</td>\n",
       "      <td>2241.642381</td>\n",
       "      <td>1879.664476</td>\n",
       "      <td>0.0</td>\n",
       "    </tr>\n",
       "    <tr>\n",
       "      <th>3581</th>\n",
       "      <td>0.0</td>\n",
       "      <td>0.0</td>\n",
       "      <td>3404.693048</td>\n",
       "      <td>3752.733810</td>\n",
       "      <td>2149.470857</td>\n",
       "      <td>2704.982190</td>\n",
       "      <td>2695.917429</td>\n",
       "      <td>2914.589048</td>\n",
       "      <td>2665.032952</td>\n",
       "      <td>2515.303143</td>\n",
       "      <td>2018.688667</td>\n",
       "      <td>2266.243619</td>\n",
       "      <td>2240.668857</td>\n",
       "      <td>1878.817714</td>\n",
       "      <td>0.0</td>\n",
       "    </tr>\n",
       "    <tr>\n",
       "      <th>3582</th>\n",
       "      <td>0.0</td>\n",
       "      <td>0.0</td>\n",
       "      <td>3403.985143</td>\n",
       "      <td>3751.868952</td>\n",
       "      <td>2148.827429</td>\n",
       "      <td>2704.103429</td>\n",
       "      <td>2695.382571</td>\n",
       "      <td>2913.979429</td>\n",
       "      <td>2664.316952</td>\n",
       "      <td>2514.931333</td>\n",
       "      <td>2018.334667</td>\n",
       "      <td>2265.623905</td>\n",
       "      <td>2239.723429</td>\n",
       "      <td>1878.178857</td>\n",
       "      <td>0.0</td>\n",
       "    </tr>\n",
       "    <tr>\n",
       "      <th>3583</th>\n",
       "      <td>0.0</td>\n",
       "      <td>0.0</td>\n",
       "      <td>3403.466952</td>\n",
       "      <td>3751.203714</td>\n",
       "      <td>2148.138667</td>\n",
       "      <td>2703.397429</td>\n",
       "      <td>2694.772952</td>\n",
       "      <td>2913.137238</td>\n",
       "      <td>2663.720286</td>\n",
       "      <td>2514.564857</td>\n",
       "      <td>2017.884571</td>\n",
       "      <td>2264.906286</td>\n",
       "      <td>2238.719810</td>\n",
       "      <td>1877.380571</td>\n",
       "      <td>0.0</td>\n",
       "    </tr>\n",
       "  </tbody>\n",
       "</table>\n",
       "</div>"
      ],
      "text/plain": [
       "      Methane(ppm)  Ethylene(ppm)      sensor3      sensor4      sensor5  \\\n",
       "3579           0.0            0.0  3407.506286  3754.603143  2150.950000   \n",
       "3580           0.0            0.0  3405.911333  3753.634286  2150.210381   \n",
       "3581           0.0            0.0  3404.693048  3752.733810  2149.470857   \n",
       "3582           0.0            0.0  3403.985143  3751.868952  2148.827429   \n",
       "3583           0.0            0.0  3403.466952  3751.203714  2148.138667   \n",
       "\n",
       "          sensor6      sensor7      sensor8     sensor11     sensor12  \\\n",
       "3579  2707.213905  2697.069238  2915.878571  2665.986286  2516.178286   \n",
       "3580  2705.921143  2696.559714  2915.123810  2665.456000  2515.648286   \n",
       "3581  2704.982190  2695.917429  2914.589048  2665.032952  2515.303143   \n",
       "3582  2704.103429  2695.382571  2913.979429  2664.316952  2514.931333   \n",
       "3583  2703.397429  2694.772952  2913.137238  2663.720286  2514.564857   \n",
       "\n",
       "         sensor13     sensor14     sensor15     sensor16  Methane%  \n",
       "3579  2019.833524  2267.264190  2242.542000  1880.299333       0.0  \n",
       "3580  2019.300190  2266.893619  2241.642381  1879.664476       0.0  \n",
       "3581  2018.688667  2266.243619  2240.668857  1878.817714       0.0  \n",
       "3582  2018.334667  2265.623905  2239.723429  1878.178857       0.0  \n",
       "3583  2017.884571  2264.906286  2238.719810  1877.380571       0.0  "
      ]
     },
     "execution_count": 11,
     "metadata": {},
     "output_type": "execute_result"
    }
   ],
   "source": [
    "data.head()"
   ]
  },
  {
   "cell_type": "code",
   "execution_count": 13,
   "metadata": {},
   "outputs": [
    {
     "name": "stdout",
     "output_type": "stream",
     "text": [
      "5\n",
      "(3926717, 15)\n",
      "(3926717, 15)\n",
      "CV\n",
      "(3926713, 15)\n",
      "258.37213706970215\n",
      "\n",
      "6\n",
      "(3926717, 15)\n",
      "(3926717, 15)\n",
      "CV\n",
      "(3926712, 15)\n",
      "323.99923491477966\n",
      "\n",
      "7\n",
      "(3926717, 15)\n",
      "(3926717, 15)\n",
      "CV\n",
      "(3926711, 15)\n",
      "264.32201862335205\n",
      "\n",
      "8\n",
      "(3926717, 15)\n",
      "(3926717, 15)\n",
      "CV\n",
      "(3926710, 15)\n",
      "246.04694724082947\n",
      "\n",
      "9\n",
      "(3926717, 15)\n",
      "(3926717, 15)\n",
      "CV\n",
      "(3926709, 15)\n",
      "268.4989159107208\n",
      "\n",
      "10\n",
      "(3926717, 15)\n",
      "(3926717, 15)\n",
      "CV\n",
      "(3926708, 15)\n",
      "291.51777148246765\n",
      "\n",
      "11\n",
      "(3926717, 15)\n",
      "(3926717, 15)\n",
      "CV\n",
      "(3926707, 15)\n",
      "215.6368124485016\n",
      "\n",
      "12\n",
      "(3926717, 15)\n",
      "(3926717, 15)\n",
      "CV\n",
      "(3926706, 15)\n",
      "251.42633605003357\n",
      "\n",
      "13\n",
      "(3926717, 15)\n",
      "(3926717, 15)\n",
      "CV\n",
      "(3926705, 15)\n",
      "271.80584383010864\n",
      "\n",
      "14\n",
      "(3926717, 15)\n",
      "(3926717, 15)\n",
      "CV\n",
      "(3926704, 15)\n",
      "263.026903629303\n",
      "\n",
      "15\n",
      "(3926717, 15)\n",
      "(3926717, 15)\n",
      "CV\n",
      "(3926703, 15)\n",
      "276.82688212394714\n",
      "\n"
     ]
    }
   ],
   "source": [
    "#this block of code test the results for moving averages 5,7,9,11,13,15. It uses deepcopy to create a copy of the data\n",
    "#to constantly refer back too at the start of a new average test\n",
    "df = deepcopy(data)\n",
    "scores = list()\n",
    "times = list()\n",
    "avg = [5,6,7,8,9,10,11,12,13,14,15]\n",
    "\n",
    "\n",
    "for m in avg:\n",
    "    print(m)\n",
    "    print(df.shape)\n",
    "    data = deepcopy(df)\n",
    "    print(data.shape)\n",
    "    for k in sensor_name: #change df back to data\n",
    "        data[k]=df[k].rolling(window=m).mean() #rolling has the the window starting at the right edge by default\n",
    "        \n",
    "    data = data.dropna()\n",
    "    \n",
    "    X = data.drop(columns = ['Methane(ppm)','Ethylene(ppm)','Methane%'])\n",
    "    y = np.where(data['Methane%'] >= 0.5, 1, 0)\n",
    "    \n",
    "    X_train, X_test, y_train, y_test = train_test_split(X, y, test_size=0.50, random_state=42)  \n",
    "    print('CV')\n",
    "    start = time.time()\n",
    "    clf = LogisticRegression(random_state=42, solver='lbfgs',max_iter=10000,n_jobs = -1).fit(X_train, y_train)\n",
    "    score = cross_val_score(clf, X_test, y_test, cv=kfld, scoring='r2').mean()\n",
    "    end = time.time()\n",
    "    print(data.shape)\n",
    "    print(end-start)\n",
    "    print(\"\")\n",
    "    scores.append(score)\n",
    "    times.append((end-start))"
   ]
  },
  {
   "cell_type": "code",
   "execution_count": 10,
   "metadata": {},
   "outputs": [
    {
     "data": {
      "text/plain": [
       "Text(0, 0.5, 'R2')"
      ]
     },
     "execution_count": 10,
     "metadata": {},
     "output_type": "execute_result"
    },
    {
     "data": {
      "image/png": "[encoded data removed]",
      "text/plain": [
       "<Figure size 432x288 with 1 Axes>"
      ]
     },
     "metadata": {
      "needs_background": "light"
     },
     "output_type": "display_data"
    }
   ],
   "source": [
    "#Plots the R2 vs the Moving avg # value calculated in the previou block\n",
    "\n",
    "\n",
    "#plt.ylim(0.90, 0.93) \n",
    "plt.scatter(avg,scores)\n",
    "plt.title(\"R2 vs Moving Avg\")\n",
    "plt.xlabel(\"Moving Avg\")\n",
    "plt.ylabel(\"R2\")"
   ]
  },
  {
   "cell_type": "code",
   "execution_count": 9,
   "metadata": {},
   "outputs": [
    {
     "data": {
      "text/plain": [
       "Text(0, 0.5, 'Time (sec)')"
      ]
     },
     "execution_count": 9,
     "metadata": {},
     "output_type": "execute_result"
    },
    {
     "data": {
      "image/png": "[encoded data removed]",
      "text/plain": [
       "<Figure size 432x288 with 1 Axes>"
      ]
     },
     "metadata": {
      "needs_background": "light"
     },
     "output_type": "display_data"
    }
   ],
   "source": [
    "#Plots the Run time vs the Moving avg # value calculated in the previou block\n",
    "plt.scatter(avg,times)\n",
    "plt.title(\"Time vs Moving Avg\")\n",
    "plt.xlabel(\"Moving Avg\")\n",
    "plt.ylabel(\"Time (sec)\")"
   ]
  },
  {
   "cell_type": "code",
   "execution_count": null,
   "metadata": {},
   "outputs": [],
   "source": []
  }
 ],
 "metadata": {
  "kernelspec": {
   "display_name": "Python 3",
   "language": "python",
   "name": "python3"
  },
  "language_info": {
   "codemirror_mode": {
    "name": "ipython",
    "version": 3
   },
   "file_extension": ".py",
   "mimetype": "text/x-python",
   "name": "python",
   "nbconvert_exporter": "python",
   "pygments_lexer": "ipython3",
   "version": "3.7.3"
  }
 },
 "nbformat": 4,
 "nbformat_minor": 2
}
