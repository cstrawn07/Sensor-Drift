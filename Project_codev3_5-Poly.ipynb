{
 "cells": [
  {
   "cell_type": "code",
   "execution_count": 1,
   "metadata": {},
   "outputs": [],
   "source": [
    "#This code uses a best feature select of 12 and calculates the results for \n",
    "#poly equal to 2. The result that are initially saved are for poly = 3 but \n",
    "#reruning the code should produce results for poly = 2\n",
    "\n",
    "from sklearn.datasets import fetch_openml\n",
    "import time\n",
    "\n",
    "import pandas as pd\n",
    "import numpy as np\n",
    "import matplotlib.pyplot as plt\n",
    "\n",
    "import sklearn.linear_model as skl_lm\n",
    "from sklearn.linear_model import LogisticRegression\n",
    "from sklearn.discriminant_analysis import LinearDiscriminantAnalysis, QuadraticDiscriminantAnalysis\n",
    "from sklearn.metrics import confusion_matrix, classification_report, precision_score, recall_score\n",
    "\n",
    "from sklearn.model_selection import train_test_split, LeaveOneOut, KFold, cross_val_score\n",
    "from sklearn.preprocessing import PolynomialFeatures\n",
    "\n",
    "from sklearn import utils\n",
    "from sklearn import preprocessing\n",
    "from sklearn import neighbors\n",
    "from pandas import read_csv\n",
    "\n",
    "from sklearn.feature_selection import SelectKBest, f_classif\n",
    "\n",
    "from sklearn import preprocessing\n",
    "\n",
    "from sklearn.feature_selection import SelectKBest\n",
    "\n",
    "import csv\n",
    "lda = LinearDiscriminantAnalysis()\n",
    "qda = QuadraticDiscriminantAnalysis()\n",
    "kfld = KFold(n_splits=3,random_state=42)"
   ]
  },
  {
   "cell_type": "code",
   "execution_count": 3,
   "metadata": {},
   "outputs": [
    {
     "name": "stdout",
     "output_type": "stream",
     "text": [
      "(4178504, 19)\n"
     ]
    }
   ],
   "source": [
    "#Reads data in from data folder.\n",
    "\n",
    "\n",
    "data = read_csv('data/ethylene_methane.txt',delim_whitespace=True)\n",
    "print(data.shape)"
   ]
  },
  {
   "cell_type": "code",
   "execution_count": 4,
   "metadata": {},
   "outputs": [],
   "source": [
    "#creates a new attribute thats the % Methane, in cases where we divide by zero\n",
    "#we recieve a NAN which is replaced by a 0\n",
    "#the 4th line drops that attributes that we defined to be unnecasry from our K\n",
    "#best select we ran in a previous part of our code\n",
    "#this code also finds all unique PPM for methane\n",
    "\n",
    "data['Methane%'] = (data['Methane(ppm)']/(data['Methane(ppm)']+data['Ethylene(ppm)']))\n",
    "data['Methane%'] = data['Methane%'].fillna(0)\n",
    "\n",
    "ppm = data['Methane(ppm)'].unique()\n",
    "\n",
    "data = data.drop(columns = ['Time(sec)', 'sensor1', 'sensor2','sensor9','sensor10'])\n",
    "\n",
    "sensor_name = ['sensor3', 'sensor4', 'sensor5','sensor6', 'sensor7', 'sensor8', 'sensor11','sensor12', 'sensor13', 'sensor14', 'sensor15', 'sensor16']\n"
   ]
  },
  {
   "cell_type": "code",
   "execution_count": 5,
   "metadata": {},
   "outputs": [
    {
     "name": "stdout",
     "output_type": "stream",
     "text": [
      "sensor3\n",
      "sensor4\n",
      "sensor5\n",
      "sensor6\n",
      "sensor7\n",
      "sensor8\n",
      "sensor11\n",
      "sensor12\n",
      "sensor13\n",
      "sensor14\n",
      "sensor15\n",
      "sensor16\n"
     ]
    }
   ],
   "source": [
    "#This block searches for Outliers for each PPM of Methane and then drops them\n",
    "#from the file.\n",
    "\n",
    "\n",
    "for j in sensor_name:\n",
    "    print(j)\n",
    "    for i in np.sort(ppm):    \n",
    "        data2 = data[data[\"Methane(ppm)\"] == i] #only select a specific PPM to begin trimming\n",
    "        \n",
    "        results = data2[j].quantile([0.125,0.875]) #Next lines calculate the range for non-Outliers\n",
    "        IQR_15 = 1.5*(results.loc[0.875] - results.loc[0.125])\n",
    "        fq = results.loc[0.125] - IQR_15\n",
    "        tq = results.loc[0.875] + IQR_15\n",
    "                \n",
    "        index = data2[(fq>data2[j]) | (tq<data2[j])] #Finds Outliers\n",
    "        data = data.drop(index.index) #Uses index of Outliers to drop rows from data \n"
   ]
  },
  {
   "cell_type": "code",
   "execution_count": 6,
   "metadata": {},
   "outputs": [
    {
     "data": {
      "text/html": [
       "<div>\n",
       "<style scoped>\n",
       "    .dataframe tbody tr th:only-of-type {\n",
       "        vertical-align: middle;\n",
       "    }\n",
       "\n",
       "    .dataframe tbody tr th {\n",
       "        vertical-align: top;\n",
       "    }\n",
       "\n",
       "    .dataframe thead th {\n",
       "        text-align: right;\n",
       "    }\n",
       "</style>\n",
       "<table border=\"1\" class=\"dataframe\">\n",
       "  <thead>\n",
       "    <tr style=\"text-align: right;\">\n",
       "      <th></th>\n",
       "      <th>Methane(ppm)</th>\n",
       "      <th>Ethylene(ppm)</th>\n",
       "      <th>sensor3</th>\n",
       "      <th>sensor4</th>\n",
       "      <th>sensor5</th>\n",
       "      <th>sensor6</th>\n",
       "      <th>sensor7</th>\n",
       "      <th>sensor8</th>\n",
       "      <th>sensor11</th>\n",
       "      <th>sensor12</th>\n",
       "      <th>...</th>\n",
       "      <th>sensor5**2</th>\n",
       "      <th>sensor6**2</th>\n",
       "      <th>sensor7**2</th>\n",
       "      <th>sensor8**2</th>\n",
       "      <th>sensor11**2</th>\n",
       "      <th>sensor12**2</th>\n",
       "      <th>sensor13**2</th>\n",
       "      <th>sensor14**2</th>\n",
       "      <th>sensor15**2</th>\n",
       "      <th>sensor16**2</th>\n",
       "    </tr>\n",
       "  </thead>\n",
       "  <tbody>\n",
       "    <tr>\n",
       "      <th>3549</th>\n",
       "      <td>0.0</td>\n",
       "      <td>0.0</td>\n",
       "      <td>3436.85</td>\n",
       "      <td>3786.60</td>\n",
       "      <td>2163.69</td>\n",
       "      <td>2749.00</td>\n",
       "      <td>2708.66</td>\n",
       "      <td>2928.48</td>\n",
       "      <td>2681.90</td>\n",
       "      <td>2537.24</td>\n",
       "      <td>...</td>\n",
       "      <td>4.681554e+06</td>\n",
       "      <td>7.557001e+06</td>\n",
       "      <td>7.336839e+06</td>\n",
       "      <td>8.575995e+06</td>\n",
       "      <td>7.192588e+06</td>\n",
       "      <td>6.437587e+06</td>\n",
       "      <td>4.146110e+06</td>\n",
       "      <td>5.153309e+06</td>\n",
       "      <td>5.048335e+06</td>\n",
       "      <td>3.543204e+06</td>\n",
       "    </tr>\n",
       "    <tr>\n",
       "      <th>3554</th>\n",
       "      <td>0.0</td>\n",
       "      <td>0.0</td>\n",
       "      <td>3439.20</td>\n",
       "      <td>3773.93</td>\n",
       "      <td>2156.47</td>\n",
       "      <td>2719.97</td>\n",
       "      <td>2707.34</td>\n",
       "      <td>2920.05</td>\n",
       "      <td>2665.17</td>\n",
       "      <td>2515.02</td>\n",
       "      <td>...</td>\n",
       "      <td>4.650363e+06</td>\n",
       "      <td>7.398237e+06</td>\n",
       "      <td>7.329690e+06</td>\n",
       "      <td>8.526692e+06</td>\n",
       "      <td>7.103131e+06</td>\n",
       "      <td>6.325326e+06</td>\n",
       "      <td>4.125977e+06</td>\n",
       "      <td>5.157759e+06</td>\n",
       "      <td>5.086829e+06</td>\n",
       "      <td>3.593603e+06</td>\n",
       "    </tr>\n",
       "  </tbody>\n",
       "</table>\n",
       "<p>2 rows × 27 columns</p>\n",
       "</div>"
      ],
      "text/plain": [
       "      Methane(ppm)  Ethylene(ppm)  sensor3  sensor4  sensor5  sensor6  \\\n",
       "3549           0.0            0.0  3436.85  3786.60  2163.69  2749.00   \n",
       "3554           0.0            0.0  3439.20  3773.93  2156.47  2719.97   \n",
       "\n",
       "      sensor7  sensor8  sensor11  sensor12  ...    sensor5**2    sensor6**2  \\\n",
       "3549  2708.66  2928.48   2681.90   2537.24  ...  4.681554e+06  7.557001e+06   \n",
       "3554  2707.34  2920.05   2665.17   2515.02  ...  4.650363e+06  7.398237e+06   \n",
       "\n",
       "        sensor7**2    sensor8**2   sensor11**2   sensor12**2   sensor13**2  \\\n",
       "3549  7.336839e+06  8.575995e+06  7.192588e+06  6.437587e+06  4.146110e+06   \n",
       "3554  7.329690e+06  8.526692e+06  7.103131e+06  6.325326e+06  4.125977e+06   \n",
       "\n",
       "       sensor14**2   sensor15**2   sensor16**2  \n",
       "3549  5.153309e+06  5.048335e+06  3.543204e+06  \n",
       "3554  5.157759e+06  5.086829e+06  3.593603e+06  \n",
       "\n",
       "[2 rows x 27 columns]"
      ]
     },
     "execution_count": 6,
     "metadata": {},
     "output_type": "execute_result"
    }
   ],
   "source": [
    "#this line adds a addition attribute that is the sensor value raised to some power\n",
    "#by adding an additional number or change the two you can increase the power of the attribute\n",
    "for i in [2]:\n",
    "    for k in sensor_name:\n",
    "        data[k+'**%i' %i]=data[k]**i\n",
    "data = data.dropna()\n",
    "data.head(2)"
   ]
  },
  {
   "cell_type": "code",
   "execution_count": 7,
   "metadata": {},
   "outputs": [
    {
     "name": "stdout",
     "output_type": "stream",
     "text": [
      "Time (sec) =  1.2000904083251953\n"
     ]
    }
   ],
   "source": [
    "#Defines our X and y and sets y equal to 1 if the Methane % is greater than 50%\n",
    "#and splites the data into train and test\n",
    "\n",
    "X_best = data.drop(columns = ['Methane(ppm)','Ethylene(ppm)','Methane%'])\n",
    "y = np.where(data['Methane%'] >= 0.5, 1, 0)\n",
    "\n",
    "start =time.time()\n",
    "X_train, X_test, y_train, y_test = train_test_split(X_best, y, test_size=0.90, random_state=42) \n",
    "end = time.time()\n",
    "print('Time (sec) = ',(end-start))"
   ]
  },
  {
   "cell_type": "code",
   "execution_count": 8,
   "metadata": {},
   "outputs": [
    {
     "name": "stdout",
     "output_type": "stream",
     "text": [
      "0.9203444712971587\n",
      "Time (sec) =  2112.9818210601807\n"
     ]
    }
   ],
   "source": [
    "#these next blocks of code are the model fitting, each block attempts to fit \n",
    "#one model and records the start time starting at the fitting and ends after \n",
    "#finishing the CV\n",
    "#The score and time printed once the code finishes\n",
    "\n",
    "start =time.time()\n",
    "clf = LogisticRegression(random_state=42, solver='lbfgs',max_iter=10000,n_jobs = -1).fit(X_train, y_train)\n",
    "score = cross_val_score(clf, X_test, y_test, cv=kfld, scoring='r2').mean()\n",
    "end = time.time()\n",
    "print(score)\n",
    "print('Time (sec) = ',(end-start))\n",
    "#2 R2 = 0.9203444712971587 Time (sec) =  1865.4750816822052\n",
    "#3 R2"
   ]
  },
  {
   "cell_type": "code",
   "execution_count": 9,
   "metadata": {},
   "outputs": [
    {
     "name": "stdout",
     "output_type": "stream",
     "text": [
      "0.9098351752134888\n",
      "Time (sec) =  34.80310606956482\n"
     ]
    }
   ],
   "source": [
    "start =time.time()\n",
    "lda.fit(X_train, y_train)\n",
    "score = cross_val_score(lda, X_test, y_test, cv=kfld, scoring='r2').mean()\n",
    "end = time.time()\n",
    "print(score)\n",
    "print('Time (sec) = ',(end-start))\n",
    "#2 R2 = 0.9098351752134888 Time (sec) =  28.132073640823364\n",
    "#3 R2"
   ]
  },
  {
   "cell_type": "code",
   "execution_count": 10,
   "metadata": {},
   "outputs": [
    {
     "name": "stdout",
     "output_type": "stream",
     "text": [
      "0.8771708325881379\n",
      "Time (sec) =  19.045295000076294\n"
     ]
    }
   ],
   "source": [
    "start =time.time()\n",
    "qda.fit(X_train, y_train)\n",
    "score = cross_val_score(qda, X_test, y_test, cv=kfld, scoring='r2').mean()\n",
    "end = time.time()\n",
    "print(score)\n",
    "print('Time (sec) = ',(end-start))\n",
    "#2 r2 = 0.8771708325881379 Time (sec) =  12.298192024230957\n",
    "#3 R2"
   ]
  },
  {
   "cell_type": "code",
   "execution_count": 11,
   "metadata": {},
   "outputs": [
    {
     "name": "stdout",
     "output_type": "stream",
     "text": [
      "0.966541590213955\n",
      "Time (sec) =  797.9341518878937\n"
     ]
    }
   ],
   "source": [
    "start =time.time()\n",
    "knn = neighbors.KNeighborsClassifier(n_neighbors=3).fit(X_train, y_train)\n",
    "score = cross_val_score(knn, X_test, y_test, cv=kfld, scoring='r2').mean()\n",
    "end = time.time()\n",
    "print(score)\n",
    "print('Time (sec) = ',(end-start))\n",
    "#2 R2 = 0.966541590213955 Time (sec) =  808.5260109901428\n",
    "#3 R2"
   ]
  },
  {
   "cell_type": "code",
   "execution_count": 13,
   "metadata": {},
   "outputs": [
    {
     "name": "stdout",
     "output_type": "stream",
     "text": [
      "0.9571519481358848\n",
      "0.9994296130128697\n"
     ]
    }
   ],
   "source": [
    "#these next lines take the previously fitted models and computes\n",
    "#recall and precision\n",
    "\n",
    "clf_y = clf.predict(X_test)\n",
    "print(recall_score(y_test, clf_y))\n",
    "print(precision_score(y_test, clf_y))"
   ]
  },
  {
   "cell_type": "code",
   "execution_count": 14,
   "metadata": {},
   "outputs": [
    {
     "name": "stdout",
     "output_type": "stream",
     "text": [
      "0.9550334093993765\n",
      "0.9957178400653112\n"
     ]
    }
   ],
   "source": [
    "lda_y = lda.predict(X_test)\n",
    "print(recall_score(y_test, lda_y))\n",
    "print(precision_score(y_test, lda_y))"
   ]
  },
  {
   "cell_type": "code",
   "execution_count": 15,
   "metadata": {},
   "outputs": [
    {
     "name": "stdout",
     "output_type": "stream",
     "text": [
      "0.9563639437011847\n",
      "0.9763542535062575\n"
     ]
    }
   ],
   "source": [
    "qda_y = qda.predict(X_test)\n",
    "print(recall_score(y_test, qda_y))\n",
    "print(precision_score(y_test, qda_y))"
   ]
  },
  {
   "cell_type": "code",
   "execution_count": 16,
   "metadata": {},
   "outputs": [
    {
     "name": "stdout",
     "output_type": "stream",
     "text": [
      "0.9867549380782635\n",
      "0.9925779276959007\n"
     ]
    }
   ],
   "source": [
    "knn_y = knn.predict(X_test)\n",
    "print(recall_score(y_test, knn_y))\n",
    "print(precision_score(y_test, knn_y))"
   ]
  },
  {
   "cell_type": "code",
   "execution_count": null,
   "metadata": {},
   "outputs": [],
   "source": []
  }
 ],
 "metadata": {
  "kernelspec": {
   "display_name": "Python 3",
   "language": "python",
   "name": "python3"
  },
  "language_info": {
   "codemirror_mode": {
    "name": "ipython",
    "version": 3
   },
   "file_extension": ".py",
   "mimetype": "text/x-python",
   "name": "python",
   "nbconvert_exporter": "python",
   "pygments_lexer": "ipython3",
   "version": "3.7.3"
  }
 },
 "nbformat": 4,
 "nbformat_minor": 2
}
