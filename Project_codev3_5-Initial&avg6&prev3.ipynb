{
 "cells": [
  {
   "cell_type": "code",
   "execution_count": 1,
   "metadata": {},
   "outputs": [],
   "source": [
    "#This code uses a best feature select of 12 and calculates the results for \n",
    "# applying a moving average as well as 3 previous values.\n",
    "\n",
    "from sklearn.datasets import fetch_openml\n",
    "import time\n",
    "\n",
    "import pandas as pd\n",
    "import numpy as np\n",
    "import matplotlib.pyplot as plt\n",
    "\n",
    "import sklearn.linear_model as skl_lm\n",
    "from sklearn.linear_model import LogisticRegression\n",
    "from sklearn.discriminant_analysis import LinearDiscriminantAnalysis, QuadraticDiscriminantAnalysis\n",
    "from sklearn.metrics import confusion_matrix, classification_report, precision_score, recall_score\n",
    "\n",
    "from sklearn.model_selection import train_test_split, LeaveOneOut, KFold, cross_val_score\n",
    "from sklearn.preprocessing import PolynomialFeatures\n",
    "\n",
    "from sklearn import utils\n",
    "from sklearn import preprocessing\n",
    "from sklearn import neighbors\n",
    "from pandas import read_csv\n",
    "\n",
    "from sklearn.feature_selection import SelectKBest, f_classif\n",
    "\n",
    "from sklearn import preprocessing\n",
    "\n",
    "from sklearn.feature_selection import SelectKBest\n",
    "from copy import deepcopy\n",
    "import csv\n",
    "lda = LinearDiscriminantAnalysis()\n",
    "qda = QuadraticDiscriminantAnalysis()\n",
    "kfld = KFold(n_splits=3,random_state=42)"
   ]
  },
  {
   "cell_type": "code",
   "execution_count": 2,
   "metadata": {},
   "outputs": [
    {
     "name": "stdout",
     "output_type": "stream",
     "text": [
      "(4178504, 19)\n"
     ]
    }
   ],
   "source": [
    "#Reads data in from data folder.\n",
    "\n",
    "data = read_csv('data/ethylene_methane.txt',delim_whitespace=True)\n",
    "print(data.shape)"
   ]
  },
  {
   "cell_type": "code",
   "execution_count": 3,
   "metadata": {},
   "outputs": [],
   "source": [
    "#creates a new attribute thats the % Methane, in cases where we divide by zero\n",
    "#we recieve a NAN which is replaced by a 0\n",
    "#the 4th line drops that attributes that we defined to be unnecasry from our K\n",
    "#best select we ran in a previous part of our code\n",
    "#this code also finds all unique PPM for methane\n",
    "\n",
    "data['Methane%'] = (data['Methane(ppm)']/(data['Methane(ppm)']+data['Ethylene(ppm)']))\n",
    "data['Methane%'] = data['Methane%'].fillna(0)\n",
    "\n",
    "ppm = data['Methane(ppm)'].unique()\n",
    "\n",
    "data = data.drop(columns = ['Time(sec)', 'sensor1', 'sensor2','sensor9','sensor10'])\n",
    "\n",
    "sensor_name = ['sensor3', 'sensor4', 'sensor5','sensor6', 'sensor7', 'sensor8', 'sensor11','sensor12', 'sensor13', 'sensor14', 'sensor15', 'sensor16']\n"
   ]
  },
  {
   "cell_type": "code",
   "execution_count": 4,
   "metadata": {},
   "outputs": [
    {
     "name": "stdout",
     "output_type": "stream",
     "text": [
      "sensor3\n",
      "sensor4\n",
      "sensor5\n",
      "sensor6\n",
      "sensor7\n",
      "sensor8\n",
      "sensor11\n",
      "sensor12\n",
      "sensor13\n",
      "sensor14\n",
      "sensor15\n",
      "sensor16\n"
     ]
    }
   ],
   "source": [
    "#This block searches for Outliers for each PPM of Methane and then drops them\n",
    "#from the file.\n",
    "\n",
    "for j in sensor_name:\n",
    "    print(j)\n",
    "    for i in np.sort(ppm):    \n",
    "        data2 = data[data[\"Methane(ppm)\"] == i] #only select a specific PPM to begin trimming\n",
    "        \n",
    "        results = data2[j].quantile([0.125,0.875]) #Next lines calculate the range for non-Outliers\n",
    "        IQR_15 = 1.5*(results.loc[0.875] - results.loc[0.125])\n",
    "        fq = results.loc[0.125] - IQR_15\n",
    "        tq = results.loc[0.875] + IQR_15\n",
    "                \n",
    "        index = data2[(fq>data2[j]) | (tq<data2[j])] #Finds Outliers\n",
    "        data = data.drop(index.index) #Uses index of Outliers to drop rows from data \n",
    "        \n",
    "        \n",
    "        #print('Methane(ppm) = ',i)\n",
    "        #print('Outlier range',fq , tq)\n",
    "        #print(data.shape)\n",
    "        #print(\"\")"
   ]
  },
  {
   "cell_type": "code",
   "execution_count": 5,
   "metadata": {},
   "outputs": [
    {
     "name": "stdout",
     "output_type": "stream",
     "text": [
      "sensor3\n",
      "sensor4\n",
      "sensor5\n",
      "sensor6\n",
      "sensor7\n",
      "sensor8\n",
      "sensor11\n",
      "sensor12\n",
      "sensor13\n",
      "sensor14\n",
      "sensor15\n",
      "sensor16\n"
     ]
    }
   ],
   "source": [
    "#Calculates a moving average of 6 and then adds 3 addition attributes each one\n",
    "#belonging to previous value.\n",
    "\n",
    "df = deepcopy(data)\n",
    "for k in sensor_name:\n",
    "    data[k+'avg6'] = df[k].rolling(window=6).mean()\n",
    "    data[k+'(t-1)']=df[k].shift(1)\n",
    "    data[k+'(t-2)']=df[k].shift(2)\n",
    "    data[k+'(t-3)']=df[k].shift(3)\n",
    "    print(k)\n",
    "data = data.dropna()"
   ]
  },
  {
   "cell_type": "code",
   "execution_count": 6,
   "metadata": {},
   "outputs": [
    {
     "name": "stdout",
     "output_type": "stream",
     "text": [
      "Time (sec) =  2.355138063430786\n"
     ]
    }
   ],
   "source": [
    "#Defines our X and y and sets y equal to 1 if the Methane % is greater than 50%\n",
    "#and splites the data into train and test\n",
    "\n",
    "X_best = data.drop(columns = ['Methane(ppm)','Ethylene(ppm)','Methane%'])\n",
    "y = np.where(data['Methane%'] >= 0.5, 1, 0)\n",
    "\n",
    "start =time.time()\n",
    "X_train, X_test, y_train, y_test = train_test_split(X_best, y, test_size=0.50, random_state=42) \n",
    "end = time.time()\n",
    "print('Time (sec) = ',(end-start))"
   ]
  },
  {
   "cell_type": "code",
   "execution_count": 7,
   "metadata": {},
   "outputs": [
    {
     "name": "stdout",
     "output_type": "stream",
     "text": [
      "0.92022128452923\n",
      "Time (sec) =  3587.8302414417267\n"
     ]
    }
   ],
   "source": [
    "#these next blocks of code are the model fitting, each block attempts to fit \n",
    "#one model and records the start time starting at the fitting and ends after \n",
    "#finishing the CV\n",
    "#The score and time printed once the code finishes\n",
    "\n",
    "start =time.time()\n",
    "clf = LogisticRegression(random_state=42, solver='lbfgs',max_iter=10000,n_jobs = -1).fit(X_train, y_train)\n",
    "score = cross_val_score(clf, X_test, y_test, cv=kfld, scoring='r2').mean()\n",
    "end = time.time()\n",
    "print(score)\n",
    "print('Time (sec) = ',(end-start))\n",
    "#0.9203716676003069\n",
    "#Time (sec) =  3024.461760520935"
   ]
  },
  {
   "cell_type": "code",
   "execution_count": 8,
   "metadata": {},
   "outputs": [
    {
     "name": "stdout",
     "output_type": "stream",
     "text": [
      "0.9076531773997442\n",
      "Time (sec) =  48.227792501449585\n"
     ]
    }
   ],
   "source": [
    "start =time.time()\n",
    "lda.fit(X_train, y_train)\n",
    "score = cross_val_score(lda, X_test, y_test, cv=kfld, scoring='r2').mean()\n",
    "end = time.time()\n",
    "print(score)\n",
    "print('Time (sec) = ',(end-start))\n",
    "#0.9076945985630674 Time (sec) =  41.538795709609985"
   ]
  },
  {
   "cell_type": "code",
   "execution_count": 9,
   "metadata": {},
   "outputs": [
    {
     "name": "stdout",
     "output_type": "stream",
     "text": [
      "0.8688379480943459\n",
      "Time (sec) =  19.58478307723999\n"
     ]
    }
   ],
   "source": [
    "start =time.time()\n",
    "qda.fit(X_train, y_train)\n",
    "score = cross_val_score(qda, X_test, y_test, cv=kfld, scoring='r2').mean()\n",
    "end = time.time()\n",
    "print(score)\n",
    "print('Time (sec) = ',(end-start))\n",
    "#0.8736068927766212 Time (sec) =  17.918303966522217"
   ]
  },
  {
   "cell_type": "code",
   "execution_count": 10,
   "metadata": {},
   "outputs": [
    {
     "name": "stdout",
     "output_type": "stream",
     "text": [
      "0.9846348814616667\n",
      "Time (sec) =  1855.9880166053772\n"
     ]
    }
   ],
   "source": [
    "start =time.time()\n",
    "knn = neighbors.KNeighborsClassifier(n_neighbors=3).fit(X_train, y_train)\n",
    "score = cross_val_score(knn, X_test, y_test, cv=kfld, scoring='r2').mean()\n",
    "end = time.time()\n",
    "print(score)\n",
    "print('Time (sec) = ',(end-start))\n",
    "\n",
    "#0.9960584216483955 Time (sec) =  544.3553040027618"
   ]
  },
  {
   "cell_type": "code",
   "execution_count": 11,
   "metadata": {},
   "outputs": [
    {
     "name": "stdout",
     "output_type": "stream",
     "text": [
      "0.9573580128735591\n",
      "0.9991923398335193\n"
     ]
    }
   ],
   "source": [
    "#these next lines take the previously fitted models and computes\n",
    "#recall and precision\n",
    "\n",
    "clf_y = clf.predict(X_test)\n",
    "print(recall_score(y_test, clf_y))\n",
    "print(precision_score(y_test, clf_y))"
   ]
  },
  {
   "cell_type": "code",
   "execution_count": 12,
   "metadata": {},
   "outputs": [
    {
     "name": "stdout",
     "output_type": "stream",
     "text": [
      "0.9529956297890042\n",
      "0.9965713016073485\n"
     ]
    }
   ],
   "source": [
    "lda_y = lda.predict(X_test)\n",
    "print(recall_score(y_test, lda_y))\n",
    "print(precision_score(y_test, lda_y))"
   ]
  },
  {
   "cell_type": "code",
   "execution_count": 13,
   "metadata": {},
   "outputs": [
    {
     "name": "stdout",
     "output_type": "stream",
     "text": [
      "0.9579898371347161\n",
      "0.9707253451542429\n"
     ]
    }
   ],
   "source": [
    "qda_y = qda.predict(X_test)\n",
    "print(recall_score(y_test, qda_y))\n",
    "print(precision_score(y_test, qda_y))"
   ]
  },
  {
   "cell_type": "code",
   "execution_count": 14,
   "metadata": {},
   "outputs": [
    {
     "name": "stdout",
     "output_type": "stream",
     "text": [
      "0.995277533000237\n",
      "0.9965847874114144\n"
     ]
    }
   ],
   "source": [
    "knn_y = knn.predict(X_test)\n",
    "print(recall_score(y_test, knn_y))\n",
    "print(precision_score(y_test, knn_y))"
   ]
  },
  {
   "cell_type": "code",
   "execution_count": null,
   "metadata": {},
   "outputs": [],
   "source": []
  }
 ],
 "metadata": {
  "kernelspec": {
   "display_name": "Python 3",
   "language": "python",
   "name": "python3"
  },
  "language_info": {
   "codemirror_mode": {
    "name": "ipython",
    "version": 3
   },
   "file_extension": ".py",
   "mimetype": "text/x-python",
   "name": "python",
   "nbconvert_exporter": "python",
   "pygments_lexer": "ipython3",
   "version": "3.7.2"
  }
 },
 "nbformat": 4,
 "nbformat_minor": 2
}
