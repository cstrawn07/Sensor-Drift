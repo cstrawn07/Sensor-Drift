{
 "cells": [
  {
   "cell_type": "code",
   "execution_count": 1,
   "metadata": {},
   "outputs": [],
   "source": [
    "#this code looks to compare the R2 value and run time for a\n",
    "#given KNN value.\n",
    "\n",
    "\n",
    "from sklearn.datasets import fetch_openml\n",
    "import time\n",
    "\n",
    "import pandas as pd\n",
    "import numpy as np\n",
    "import matplotlib.pyplot as plt\n",
    "\n",
    "import sklearn.linear_model as skl_lm\n",
    "from sklearn.linear_model import LogisticRegression\n",
    "from sklearn.discriminant_analysis import LinearDiscriminantAnalysis, QuadraticDiscriminantAnalysis\n",
    "from sklearn.metrics import confusion_matrix, classification_report, precision_score, recall_score\n",
    "\n",
    "from sklearn.model_selection import train_test_split, LeaveOneOut, KFold, cross_val_score\n",
    "from sklearn.preprocessing import PolynomialFeatures\n",
    "\n",
    "from sklearn import utils\n",
    "from sklearn import preprocessing\n",
    "from sklearn import neighbors\n",
    "from pandas import read_csv\n",
    "\n",
    "from sklearn.feature_selection import SelectKBest, f_classif\n",
    "\n",
    "from sklearn import preprocessing\n",
    "\n",
    "from sklearn.feature_selection import SelectKBest\n",
    "\n",
    "import csv\n",
    "lda = LinearDiscriminantAnalysis()\n",
    "qda = QuadraticDiscriminantAnalysis()\n",
    "kfld = KFold(n_splits=3,random_state=42)"
   ]
  },
  {
   "cell_type": "code",
   "execution_count": 2,
   "metadata": {},
   "outputs": [
    {
     "name": "stdout",
     "output_type": "stream",
     "text": [
      "(4178504, 19)\n"
     ]
    }
   ],
   "source": [
    "#Reads data in from data folder.\n",
    "\n",
    "data = read_csv('data/ethylene_methane.txt',delim_whitespace=True)\n",
    "print(data.shape)"
   ]
  },
  {
   "cell_type": "code",
   "execution_count": 3,
   "metadata": {},
   "outputs": [],
   "source": [
    "#creates a new attribute thats the % Methane, in cases where we divide by zero\n",
    "#we recieve a NAN which is replaced by a 0\n",
    "#this code also finds all unique PPM for methane\n",
    "\n",
    "data['Methane%'] = (data['Methane(ppm)']/(data['Methane(ppm)']+data['Ethylene(ppm)']))\n",
    "data['Methane%'] = data['Methane%'].fillna(0)\n",
    "\n",
    "ppm = data['Methane(ppm)'].unique()\n",
    "\n",
    "data = data.drop(columns = ['Time(sec)', 'sensor1', 'sensor2','sensor9','sensor10'])\n",
    "\n",
    "sensor_name = ['sensor3', 'sensor4', 'sensor5','sensor6', 'sensor7', 'sensor8', 'sensor11','sensor12', 'sensor13', 'sensor14', 'sensor15', 'sensor16']\n"
   ]
  },
  {
   "cell_type": "code",
   "execution_count": 4,
   "metadata": {},
   "outputs": [
    {
     "name": "stdout",
     "output_type": "stream",
     "text": [
      "sensor3\n",
      "sensor4\n",
      "sensor5\n",
      "sensor6\n",
      "sensor7\n",
      "sensor8\n",
      "sensor11\n",
      "sensor12\n",
      "sensor13\n",
      "sensor14\n",
      "sensor15\n",
      "sensor16\n"
     ]
    }
   ],
   "source": [
    "#This block searches for Outliers for each PPM of Methane and then drops them\n",
    "#from the file.\n",
    "\n",
    "for j in sensor_name:\n",
    "    print(j)\n",
    "    for i in np.sort(ppm):    \n",
    "        data2 = data[data[\"Methane(ppm)\"] == i] #only select a specific PPM to begin trimming\n",
    "        \n",
    "        results = data2[j].quantile([0.125,0.875]) #Next lines calculate the range for non-Outliers\n",
    "        IQR_15 = 1.5*(results.loc[0.875] - results.loc[0.125])\n",
    "        fq = results.loc[0.125] - IQR_15\n",
    "        tq = results.loc[0.875] + IQR_15\n",
    "                \n",
    "        index = data2[(fq>data2[j]) | (tq<data2[j])] #Finds Outliers\n",
    "        data = data.drop(index.index) #Uses index of Outliers to drop rows from data \n",
    "        \n",
    "        \n",
    "        #print('Methane(ppm) = ',i)\n",
    "        #print('Outlier range',fq , tq)\n",
    "        #print(data.shape)\n",
    "        #print(\"\")"
   ]
  },
  {
   "cell_type": "code",
   "execution_count": 5,
   "metadata": {},
   "outputs": [],
   "source": [
    "#Defines our X and y and sets y equal to 1 if the Methane % is greater than 50%\n",
    "#and splits the data into test and train sets\n",
    "\n",
    "X = data.drop(columns = ['Methane(ppm)','Ethylene(ppm)','Methane%'])\n",
    "y = np.where(data['Methane%'] >= 0.5, 1, 0)\n",
    "\n",
    "X_train, X_test, y_train, y_test = train_test_split(X, y, test_size=0.50, random_state=42)  \n"
   ]
  },
  {
   "cell_type": "code",
   "execution_count": 6,
   "metadata": {},
   "outputs": [
    {
     "name": "stdout",
     "output_type": "stream",
     "text": [
      "0.966193648937293\n",
      "Time (sec) =  383.51973509788513\n",
      "0.9663846601051675\n",
      "Time (sec) =  412.6782548427582\n",
      "0.9679823495878493\n",
      "Time (sec) =  432.40350699424744\n",
      "0.9677482265548653\n",
      "Time (sec) =  463.28946805000305\n",
      "0.9688920550429563\n",
      "Time (sec) =  465.6989760398865\n",
      "0.9683971185161018\n",
      "Time (sec) =  480.72034215927124\n"
     ]
    }
   ],
   "source": [
    "#This block runs a loop for calculating the R2 and run time for a given value\n",
    "#of K nearest neighbors\n",
    "\n",
    "k_val = [3,4,5,6,7,8]\n",
    "scores = list()\n",
    "times = list()\n",
    "for k in k_val:\n",
    "    start =time.time()\n",
    "    knn = neighbors.KNeighborsClassifier(n_neighbors=k).fit(X_train, y_train)\n",
    "    score = cross_val_score(knn, X_test, y_test, cv=kfld, scoring='r2').mean()\n",
    "    end = time.time()\n",
    "    print(score)\n",
    "    print('Time (sec) = ',(end-start))\n",
    "    scores.append(score)\n",
    "    times.append((end-start))"
   ]
  },
  {
   "cell_type": "code",
   "execution_count": 16,
   "metadata": {},
   "outputs": [
    {
     "data": {
      "text/plain": [
       "Text(0, 0.5, 'R2')"
      ]
     },
     "execution_count": 16,
     "metadata": {},
     "output_type": "execute_result"
    },
    {
     "data": {
      "image/png": "[encoded data removed]",
      "text/plain": [
       "<Figure size 432x288 with 1 Axes>"
      ]
     },
     "metadata": {
      "needs_background": "light"
     },
     "output_type": "display_data"
    }
   ],
   "source": [
    "#Plots the R2 vs the K nearest neighbors\n",
    "#One thing i wanted to point out is I scaled this one so that i could see \n",
    "#how large of a jump in R2 we had per K but ultimiately its so small compared\n",
    "#to the run time that we selected K=3.\n",
    "\n",
    "plt.ylim(0.966, 0.97) \n",
    "plt.scatter(k_val,scores)\n",
    "plt.title(\"R2 vs # Neighbors\")\n",
    "plt.xlabel(\"# of Neighbors\")\n",
    "plt.ylabel(\"R2\")"
   ]
  },
  {
   "cell_type": "code",
   "execution_count": 15,
   "metadata": {},
   "outputs": [
    {
     "data": {
      "text/plain": [
       "Text(0, 0.5, 'Time (sec)')"
      ]
     },
     "execution_count": 15,
     "metadata": {},
     "output_type": "execute_result"
    },
    {
     "data": {
      "image/png": "[encoded data removed]",
      "text/plain": [
       "<Figure size 432x288 with 1 Axes>"
      ]
     },
     "metadata": {
      "needs_background": "light"
     },
     "output_type": "display_data"
    }
   ],
   "source": [
    "#Plots the Time vs the K nearest neighbors\n",
    "# We ended up with K=3 for our final selection since it has the fastest runtime\n",
    "# and loses very little in R2 as a result\n",
    "plt.scatter(k_val,times)\n",
    "plt.title(\"Time vs # Neighbors\")\n",
    "plt.xlabel(\"# of Neighbors\")\n",
    "plt.ylabel(\"Time (sec)\")"
   ]
  },
  {
   "cell_type": "code",
   "execution_count": null,
   "metadata": {},
   "outputs": [],
   "source": [
    "#knn_y = knn.predict(X_test)\n",
    "#confusion_matrix(y_test, knn_y)"
   ]
  },
  {
   "cell_type": "code",
   "execution_count": null,
   "metadata": {},
   "outputs": [],
   "source": []
  }
 ],
 "metadata": {
  "kernelspec": {
   "display_name": "Python 3",
   "language": "python",
   "name": "python3"
  },
  "language_info": {
   "codemirror_mode": {
    "name": "ipython",
    "version": 3
   },
   "file_extension": ".py",
   "mimetype": "text/x-python",
   "name": "python",
   "nbconvert_exporter": "python",
   "pygments_lexer": "ipython3",
   "version": "3.7.3"
  }
 },
 "nbformat": 4,
 "nbformat_minor": 2
}
